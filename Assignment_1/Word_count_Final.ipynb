{
 "cells": [
  {
   "cell_type": "code",
   "execution_count": 1,
   "metadata": {
    "scrolled": true
   },
   "outputs": [
    {
     "name": "stderr",
     "output_type": "stream",
     "text": [
      "2019-01-30 18:07:21,549 [MainThread  ] [INFO ]  Retrieving http://search.maven.org/remotecontent?filepath=org/apache/tika/tika-server/1.19/tika-server-1.19.jar to /var/folders/w4/4sg55yq56ln4zzs5jb0j7xjr0000gn/T/tika-server.jar.\n",
      "2019-01-30 18:07:56,012 [MainThread  ] [INFO ]  Retrieving http://search.maven.org/remotecontent?filepath=org/apache/tika/tika-server/1.19/tika-server-1.19.jar.md5 to /var/folders/w4/4sg55yq56ln4zzs5jb0j7xjr0000gn/T/tika-server.jar.md5.\n",
      "2019-01-30 18:07:56,206 [MainThread  ] [WARNI]  Failed to see startup log message; retrying...\n"
     ]
    },
    {
     "name": "stdout",
     "output_type": "stream",
     "text": [
      "Total Words : 96835\n"
     ]
    }
   ],
   "source": [
    "from nltk.corpus import stopwords \n",
    "from nltk.tokenize import word_tokenize \n",
    "import collections\n",
    "from tika import parser\n",
    "import csv\n",
    "\n",
    "parsedPDF1 = parser.from_file(r'/Users/rajsharavan/Desktop/Python/sample1.pdf')\n",
    "pdf1 = parsedPDF1['content']\n",
    "parsedPDF2 = parser.from_file(r'/Users/rajsharavan/Desktop/Python/sample2.pdf')\n",
    "pdf2 = parsedPDF2['content']\n",
    "parsedPDF3 = parser.from_file(r'/Users/rajsharavan/Desktop/Python/sample3.pdf')\n",
    "pdf3 = parsedPDF3['content']\n",
    "parsedPDF4 = parser.from_file(r'/Users/rajsharavan/Desktop/Python/sample4.pdf')\n",
    "pdf4 = parsedPDF4['content']\n",
    "\n",
    "#print(pdf)\n",
    "stop_words = set(stopwords.words('english')) \n",
    "  \n",
    "word_tokens1 = word_tokenize(pdf1)\n",
    "words1 = [w for w in word_tokens1 if w.isalpha()]\n",
    "word_tokens2 = word_tokenize(pdf2)\n",
    "words2 = [u for u in word_tokens2 if u.isalpha()]\n",
    "word_tokens3 = word_tokenize(pdf3)\n",
    "words3 = [v for v in word_tokens2 if v.isalpha()]\n",
    "word_tokens4 = word_tokenize(pdf4)\n",
    "words4 = [x for x in word_tokens2 if x.isalpha()]\n",
    "\n",
    "#print(word_tokens)\n",
    "#print(type(word_tokens))\n",
    "#filtered_sentence = [w for w in word_tokens if not w in stop_words] \n",
    "#print(words2[:100])\n",
    "\n",
    "filtered_sentence = []  \n",
    "for w in words1: \n",
    "    #w.lower()\n",
    "    #print(w.lower())\n",
    "    if w.lower() not in stop_words: \n",
    "        filtered_sentence.append(w) \n",
    "# print(word_tokens) \n",
    "#print(filtered_sentence) \n",
    "#print(type(filtered_sentence))\n",
    "#print(len(filtered_sentence))\n",
    "\n",
    "for u in words2: \n",
    "    if u.lower() not in stop_words: \n",
    "        filtered_sentence.append(u)\n",
    "\n",
    "for v in words3: \n",
    "    if v.lower() not in stop_words: \n",
    "        filtered_sentence.append(v)\n",
    "        \n",
    "for x in words4: \n",
    "    if x.lower() not in stop_words: \n",
    "        filtered_sentence.append(x)\n",
    "        \n",
    "print('Total Words :',len(filtered_sentence))\n",
    "\n",
    "def get_count(word_count_tuple):\n",
    "    return word_count_tuple[1]\n",
    "\n",
    "word_counts = collections.Counter(filtered_sentence)\n",
    "\n",
    "# It sorts the words based on the number of times repeated and saves them in a csv file\n",
    "def print_top():\n",
    "    word_count = word_counts\n",
    "    items = sorted(word_count.items(),key=get_count,reverse=True)\n",
    "    with open('/Users/rajsharavan/Desktop/Python/WordList.csv','w') as out:\n",
    "        csv_out=csv.writer(out)\n",
    "#        csv_out.writerow('Name')\n",
    "        for row in items:\n",
    "            csv_out.writerow(row)\n",
    "#    for item in items[:]:\n",
    "#        (item[0],item[1])\n",
    "#        print(type(item))\n",
    "#        print(item[0],item[1])\n",
    "#        print (item[0], 'has been repeated ', item[1],' times')\n",
    "#print(type(item))\n",
    "\n",
    "print_top()\n",
    "\n",
    "#for word, count in sorted(word_counts.items()):\n",
    "#    if count >1:\n",
    "#        abc=[word,count]\n",
    "#        print(abc)\n",
    "#     ('\"%s\" is repeated %d time%s.' % (word, count, \"s\" if count > 1 else \"\"))\n",
    "#    print('\"%s\" is repeated %d time%s.' % (word, count, \"s\" if count > 1 else \"\"))"
   ]
  },
  {
   "cell_type": "code",
   "execution_count": null,
   "metadata": {},
   "outputs": [],
   "source": [
    "import csv\n",
    "filtered_sentence1 = []\n",
    "with open('/Users/rajsharavan/Desktop/Python/WordList.csv') as csvfile:\n",
    "    readCSV = csv.reader(csvfile, delimiter=',')\n",
    "    your_list = list(readCSV)\n",
    "    #print(your_list)\n",
    "    for b in your_list: \n",
    "#        b.lower()\n",
    "        if b not in stop_words1: \n",
    "            filtered_sentence1.append(b)\n",
    "            print(filtered_sentence1)"
   ]
  },
  {
   "cell_type": "code",
   "execution_count": null,
   "metadata": {},
   "outputs": [],
   "source": [
    "filtered_sentence1 = [] \n",
    "stop_words1 = set(stopwords.words('fintech')) \n",
    "def check():\n",
    "    word_count1 = word_counts\n",
    "    items1 = sorted(word_count1.items(),key=get_count,reverse=True)\n",
    "    for b in word_count1: \n",
    "#        b.lower()\n",
    "        if b.lower() not in stop_words1: \n",
    "            filtered_sentence1.append(b)\n",
    "            print(filtered_sentence1)\n",
    "\n",
    "#check()"
   ]
  }
 ],
 "metadata": {
  "kernelspec": {
   "display_name": "Python 3",
   "language": "python",
   "name": "python3"
  },
  "language_info": {
   "codemirror_mode": {
    "name": "ipython",
    "version": 3
   },
   "file_extension": ".py",
   "mimetype": "text/x-python",
   "name": "python",
   "nbconvert_exporter": "python",
   "pygments_lexer": "ipython3",
   "version": "3.7.1"
  }
 },
 "nbformat": 4,
 "nbformat_minor": 2
}
